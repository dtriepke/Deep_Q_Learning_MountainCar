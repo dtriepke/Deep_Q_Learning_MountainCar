{
 "cells": [
  {
   "cell_type": "markdown",
   "metadata": {},
   "source": [
    "# Test Models\n",
    "\n",
    "This is for testing the saved model during the training session."
   ]
  },
  {
   "cell_type": "code",
   "execution_count": 1,
   "metadata": {
    "collapsed": false
   },
   "outputs": [
    {
     "name": "stderr",
     "output_type": "stream",
     "text": [
      "Using TensorFlow backend.\n"
     ]
    }
   ],
   "source": [
    "import deepQLearningSimple as dql\n",
    "import gym\n",
    "from keras.models import load_model \n",
    "from gym.envs.classic_control.mountain_car import MountainCarEnv\n",
    "from gym.wrappers.time_limit import TimeLimit\n",
    "\n",
    "def PatientMountainCar():\n",
    "    env = MountainCarEnv()\n",
    "    return TimeLimit(env, max_episode_steps=10000)"
   ]
  },
  {
   "cell_type": "markdown",
   "metadata": {},
   "source": [
    "# Load Models"
   ]
  },
  {
   "cell_type": "code",
   "execution_count": 16,
   "metadata": {
    "collapsed": false
   },
   "outputs": [],
   "source": [
    "pathImp = \"model/version_simple/\"\n",
    "# action_model = load_model(pathImp + \"success_model_episode_90.h5\")\n",
    "action_model = load_model(pathImp + \"success_model_episode_90.h5\")"
   ]
  },
  {
   "cell_type": "markdown",
   "metadata": {},
   "source": [
    "# Test Model"
   ]
  },
  {
   "cell_type": "code",
   "execution_count": 19,
   "metadata": {
    "collapsed": false
   },
   "outputs": [
    {
     "name": "stdout",
     "output_type": "stream",
     "text": [
      "\u001b[33mWARN: gym.spaces.Box autodetected dtype as <class 'numpy.float32'>. Please provide explicit dtype.\u001b[0m\n",
      " Game :: 1 Wins :: 1 Steps :: 163 Reward -62.0 Mean Q Value :: 8.6702241897583  \n",
      " Game :: 2 Wins :: 2 Steps :: 91 Reward 10.0 Mean Q Value :: 12.096261024475098  \n",
      " Game :: 3 Wins :: 3 Steps :: 120 Reward -19.0 Mean Q Value :: 2.867324113845825  \n",
      " Game :: 4 Wins :: 4 Steps :: 147 Reward -46.0 Mean Q Value :: 1.8798346519470215  \n",
      " Game :: 5 Wins :: 5 Steps :: 88 Reward 13.0 Mean Q Value :: 14.137503623962402  \n",
      " Game :: 6 Wins :: 6 Steps :: 89 Reward 12.0 Mean Q Value :: 12.6072998046875  \n",
      " Game :: 7 Wins :: 7 Steps :: 110 Reward -9.0 Mean Q Value :: 6.02296257019043  \n",
      " Game :: 8 Wins :: 8 Steps :: 109 Reward -8.0 Mean Q Value :: 6.896198272705078  \n",
      " Game :: 9 Wins :: 9 Steps :: 109 Reward -8.0 Mean Q Value :: 6.909453868865967  \n",
      " Game :: 10 Wins :: 10 Steps :: 93 Reward 8.0 Mean Q Value :: 10.460226058959961  \n"
     ]
    }
   ],
   "source": [
    "try: \n",
    "    env.close()\n",
    "except:\n",
    "    pass\n",
    "\n",
    "#env = gym.make(\"MountainCar-v0\")\n",
    "env = PatientMountainCar()\n",
    "agent = dql.agent(env  = env, training = False, render = False)\n",
    "\n",
    "# Implement the action model\n",
    "agent.action_dqn.dqn = action_model\n",
    "\n",
    "# Run\n",
    "agent.run(num_episode = 10, num_steps = 200)\n",
    "env.close()"
   ]
  }
 ],
 "metadata": {
  "anaconda-cloud": {},
  "kernelspec": {
   "display_name": "Python [conda env:Anaconda3]",
   "language": "python",
   "name": "conda-env-Anaconda3-py"
  },
  "language_info": {
   "codemirror_mode": {
    "name": "ipython",
    "version": 3
   },
   "file_extension": ".py",
   "mimetype": "text/x-python",
   "name": "python",
   "nbconvert_exporter": "python",
   "pygments_lexer": "ipython3",
   "version": "3.5.2"
  }
 },
 "nbformat": 4,
 "nbformat_minor": 1
}
