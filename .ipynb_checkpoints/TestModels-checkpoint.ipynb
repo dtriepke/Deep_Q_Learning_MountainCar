{
 "cells": [
  {
   "cell_type": "markdown",
   "metadata": {},
   "source": [
    "# Test Models\n",
    "\n",
    "This is for testing the saved model during the training session."
   ]
  },
  {
   "cell_type": "code",
   "execution_count": 1,
   "metadata": {
    "collapsed": false
   },
   "outputs": [
    {
     "name": "stderr",
     "output_type": "stream",
     "text": [
      "Using TensorFlow backend.\n"
     ]
    }
   ],
   "source": [
    "import deepQLearningSimple as dql\n",
    "import gym\n",
    "from keras.models import load_model \n",
    "from gym.envs.classic_control.mountain_car import MountainCarEnv\n",
    "from gym.wrappers.time_limit import TimeLimit\n",
    "\n",
    "def PatientMountainCar():\n",
    "    env = MountainCarEnv()\n",
    "    return TimeLimit(env, max_episode_steps=10000)"
   ]
  },
  {
   "cell_type": "code",
   "execution_count": 12,
   "metadata": {
    "collapsed": false
   },
   "outputs": [],
   "source": [
    "\"\"\"# optimal model\n",
    "pathImp = \"data/model/\"\n",
    "action_model = load_model(pathImp + \"success_model_episode_90.h5\")\"\"\""
   ]
  },
  {
   "cell_type": "markdown",
   "metadata": {},
   "source": [
    "# Test Model"
   ]
  },
  {
   "cell_type": "code",
   "execution_count": 8,
   "metadata": {
    "collapsed": false
   },
   "outputs": [
    {
     "name": "stdout",
     "output_type": "stream",
     "text": [
      "\u001b[33mWARN: gym.spaces.Box autodetected dtype as <class 'numpy.float32'>. Please provide explicit dtype.\u001b[0m\n",
      " Game :: 1 Wins :: 1 Steps :: 198 Reward 10.364125989139936 Mean Q Value :: 13.083107948303223 Max position 0.5193744396468948 \n",
      " Game :: 2 Wins :: 2 Steps :: 195 Reward 12.124612154256894 Mean Q Value :: 11.23301887512207 Max position 0.5002926206683962 \n",
      " Game :: 3 Wins :: 3 Steps :: 155 Reward 62.870443355831235 Mean Q Value :: 7.478339195251465 Max position 0.509743746058236 \n",
      " Game :: 4 Wins :: 4 Steps :: 196 Reward 11.094621034627025 Mean Q Value :: 12.235795974731445 Max position 0.5057562089799794 \n",
      " Game :: 5 Wins :: 5 Steps :: 183 Reward 19.28457199596923 Mean Q Value :: 10.368821144104004 Max position 0.5037962914798304 \n"
     ]
    }
   ],
   "source": [
    "episode = 84\n",
    "\n",
    "pathImp = \"data/model/version_simple/\"\n",
    "action_model = load_model(pathImp + \"success_model_episode_%s.h5\" % episode)\n",
    "\n",
    "#env = gym.make(\"MountainCar-v0\")\n",
    "env = PatientMountainCar()\n",
    "agent = dql.agent(env  = env, training = False, render = False)\n",
    "\n",
    "# Implement the action model\n",
    "agent.action_dqn.dqn = action_model\n",
    "\n",
    "# Run\n",
    "agent.run(num_episode = 5, num_steps = 500)\n",
    "env.close()"
   ]
  },
  {
   "cell_type": "code",
   "execution_count": null,
   "metadata": {
    "collapsed": false
   },
   "outputs": [
    {
     "name": "stdout",
     "output_type": "stream",
     "text": [
      "3/87\n"
     ]
    }
   ],
   "source": [
    "# Test all success models\n",
    "import os\n",
    "import random\n",
    "from IPython.display import clear_output\n",
    "random.seed(87)\n",
    "\n",
    "\n",
    "env = PatientMountainCar()\n",
    "agent = dql.agent(env  = env, training = False, render = False)\n",
    "empty_history = agent.writer_history.history #Backup\n",
    "\n",
    "wins = {}\n",
    "wins[\"model\"] = []\n",
    "wins[\"test_wins\"] = []\n",
    "\n",
    "pathImp = \"./data/model/version_simple/\"\n",
    "files = [file for file in os.listdir(pathImp) if file.endswith(\".h5\") ]\n",
    "counter = 0\n",
    "\n",
    "for file in files:\n",
    "    \n",
    "    counter += 1\n",
    "    print(\"{}/{}\".format(counter, files.__len__()))\n",
    "\n",
    "    # Load the model\n",
    "    action_model = load_model(pathImp + file)\n",
    "\n",
    "    # Implement action dqn in the game\n",
    "    agent.action_dqn.dqn = action_model\n",
    "\n",
    "    # Rest writer history\n",
    "    agent.writer_history.history = empty_history\n",
    "\n",
    "    # Run test\n",
    "    agent.run(num_episode = 10, num_steps = 500)\n",
    "    env.close()\n",
    "\n",
    "    # Record performance\n",
    "    wins[\"model\"].append(file)\n",
    "    wins[\"test_wins\"].append(agent.writer_history.history[\"cum_win\"][9])\n",
    "    \n",
    "    clear_output(wait = True)\n",
    "\n",
    "\n",
    "wins"
   ]
  },
  {
   "cell_type": "code",
   "execution_count": null,
   "metadata": {
    "collapsed": true
   },
   "outputs": [],
   "source": []
  }
 ],
 "metadata": {
  "anaconda-cloud": {},
  "kernelspec": {
   "display_name": "Python [conda env:Anaconda3]",
   "language": "python",
   "name": "conda-env-Anaconda3-py"
  },
  "language_info": {
   "codemirror_mode": {
    "name": "ipython",
    "version": 3
   },
   "file_extension": ".py",
   "mimetype": "text/x-python",
   "name": "python",
   "nbconvert_exporter": "python",
   "pygments_lexer": "ipython3",
   "version": "3.5.2"
  }
 },
 "nbformat": 4,
 "nbformat_minor": 1
}
