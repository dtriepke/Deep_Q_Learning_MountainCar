{
 "cells": [
  {
   "cell_type": "markdown",
   "metadata": {},
   "source": [
    "# Test Models\n",
    "\n",
    "This is for testing the saved model during the training session."
   ]
  },
  {
   "cell_type": "code",
   "execution_count": 11,
   "metadata": {
    "collapsed": false
   },
   "outputs": [],
   "source": [
    "import deepQLearningSimple as dql\n",
    "import gym\n",
    "from keras.models import load_model \n",
    "from gym.envs.classic_control.mountain_car import MountainCarEnv\n",
    "from gym.wrappers.time_limit import TimeLimit\n",
    "\n",
    "def PatientMountainCar():\n",
    "    env = MountainCarEnv()\n",
    "    return TimeLimit(env, max_episode_steps=10000)"
   ]
  },
  {
   "cell_type": "markdown",
   "metadata": {},
   "source": [
    "# Load Models"
   ]
  },
  {
   "cell_type": "code",
   "execution_count": 31,
   "metadata": {
    "collapsed": true
   },
   "outputs": [],
   "source": [
    "# optimal model\n",
    "pathImp = \"model/\"\n",
    "action_model = load_model(pathImp + \"success_model_episode_90.h5\")"
   ]
  },
  {
   "cell_type": "code",
   "execution_count": 29,
   "metadata": {
    "collapsed": false
   },
   "outputs": [],
   "source": [
    "pathImp = \"model/version_simple/\"\n",
    "action_model = load_model(pathImp + \"success_model_episode_497.h5\")"
   ]
  },
  {
   "cell_type": "markdown",
   "metadata": {},
   "source": [
    "# Test Model"
   ]
  },
  {
   "cell_type": "code",
   "execution_count": 32,
   "metadata": {
    "collapsed": false
   },
   "outputs": [
    {
     "name": "stdout",
     "output_type": "stream",
     "text": [
      "\u001b[33mWARN: gym.spaces.Box autodetected dtype as <class 'numpy.float32'>. Please provide explicit dtype.\u001b[0m\n",
      " Game :: 1 Wins :: 1 Steps :: 145 Reward -44.0 Mean Q Value :: 1.5345577001571655  \n",
      " Game :: 2 Wins :: 2 Steps :: 111 Reward -10.0 Mean Q Value :: 5.917088985443115  \n",
      " Game :: 3 Wins :: 3 Steps :: 94 Reward 7.0 Mean Q Value :: 10.144079208374023  \n",
      " Game :: 4 Wins :: 4 Steps :: 143 Reward -42.0 Mean Q Value :: 4.113731861114502  \n",
      " Game :: 5 Wins :: 5 Steps :: 109 Reward -8.0 Mean Q Value :: 6.383724689483643  \n",
      " Game :: 6 Wins :: 6 Steps :: 110 Reward -9.0 Mean Q Value :: 6.569818496704102  \n",
      " Game :: 7 Wins :: 7 Steps :: 175 Reward -74.0 Mean Q Value :: 8.930326461791992  \n",
      " Game :: 8 Wins :: 8 Steps :: 177 Reward -76.0 Mean Q Value :: 8.221795082092285  \n",
      " Game :: 9 Wins :: 9 Steps :: 146 Reward -45.0 Mean Q Value :: 1.8292495012283325  \n",
      " Game :: 10 Wins :: 10 Steps :: 110 Reward -9.0 Mean Q Value :: 6.05683708190918  \n"
     ]
    }
   ],
   "source": [
    "try: \n",
    "    env.close()\n",
    "except:\n",
    "    pass\n",
    "\n",
    "#env = gym.make(\"MountainCar-v0\")\n",
    "env = PatientMountainCar()\n",
    "agent = dql.agent(env  = env, training = False, render = True)\n",
    "\n",
    "# Implement the action model\n",
    "agent.action_dqn.dqn = action_model\n",
    "\n",
    "# Run\n",
    "agent.run(num_episode = 10, num_steps = 500)\n",
    "env.close()"
   ]
  }
 ],
 "metadata": {
  "anaconda-cloud": {},
  "kernelspec": {
   "display_name": "Python [conda env:Anaconda3]",
   "language": "python",
   "name": "conda-env-Anaconda3-py"
  },
  "language_info": {
   "codemirror_mode": {
    "name": "ipython",
    "version": 3
   },
   "file_extension": ".py",
   "mimetype": "text/x-python",
   "name": "python",
   "nbconvert_exporter": "python",
   "pygments_lexer": "ipython3",
   "version": "3.5.2"
  }
 },
 "nbformat": 4,
 "nbformat_minor": 1
}
