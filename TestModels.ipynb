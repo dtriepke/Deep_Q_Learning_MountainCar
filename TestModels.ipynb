{
 "cells": [
  {
   "cell_type": "markdown",
   "metadata": {},
   "source": [
    "# Test Models\n",
    "\n",
    "This is for testing the saved model during the training session."
   ]
  },
  {
   "cell_type": "code",
   "execution_count": 34,
   "metadata": {
    "collapsed": false
   },
   "outputs": [],
   "source": [
    "import deepQLearningSimple as dql\n",
    "import gym\n",
    "from keras.models import load_model \n",
    "from gym.envs.classic_control.mountain_car import MountainCarEnv\n",
    "from gym.wrappers.time_limit import TimeLimit\n",
    "\n",
    "def PatientMountainCar():\n",
    "    env = MountainCarEnv()\n",
    "    return TimeLimit(env, max_episode_steps=10000)"
   ]
  },
  {
   "cell_type": "markdown",
   "metadata": {},
   "source": [
    "# Load Models"
   ]
  },
  {
   "cell_type": "code",
   "execution_count": 31,
   "metadata": {
    "collapsed": true
   },
   "outputs": [],
   "source": [
    "# optimal model\n",
    "pathImp = \"model/\"\n",
    "action_model = load_model(pathImp + \"success_model_episode_90.h5\")"
   ]
  },
  {
   "cell_type": "code",
   "execution_count": 46,
   "metadata": {
    "collapsed": false
   },
   "outputs": [],
   "source": [
    "pathImp = \"model/version_simple/\"\n",
    "action_model = load_model(pathImp + \"success_model_episode_19.h5\")"
   ]
  },
  {
   "cell_type": "markdown",
   "metadata": {},
   "source": [
    "# Test Model"
   ]
  },
  {
   "cell_type": "code",
   "execution_count": 48,
   "metadata": {
    "collapsed": false
   },
   "outputs": [
    {
     "name": "stdout",
     "output_type": "stream",
     "text": [
      "\u001b[33mWARN: gym.spaces.Box autodetected dtype as <class 'numpy.float32'>. Please provide explicit dtype.\u001b[0m\n",
      " Game :: 1 Wins :: 0 Steps :: 500 Reward -500.0 Mean Q Value :: -17.10150909423828  \n",
      " Game :: 2 Wins :: 0 Steps :: 500 Reward -500.0 Mean Q Value :: -21.91490936279297  \n",
      " Game :: 3 Wins :: 0 Steps :: 500 Reward -500.0 Mean Q Value :: -21.963163375854492  \n",
      " Game :: 4 Wins :: 0 Steps :: 500 Reward -500.0 Mean Q Value :: -20.804262161254883  \n",
      " Game :: 5 Wins :: 0 Steps :: 500 Reward -500.0 Mean Q Value :: -20.424636840820312  \n",
      " Game :: 6 Wins :: 0 Steps :: 500 Reward -500.0 Mean Q Value :: -24.563316345214844  \n",
      " Game :: 7 Wins :: 0 Steps :: 500 Reward -500.0 Mean Q Value :: -16.447784423828125  \n",
      " Game :: 8 Wins :: 0 Steps :: 500 Reward -500.0 Mean Q Value :: -16.09888458251953  \n",
      " Game :: 9 Wins :: 0 Steps :: 500 Reward -500.0 Mean Q Value :: -16.406599044799805  \n",
      " Game :: 10 Wins :: 0 Steps :: 500 Reward -500.0 Mean Q Value :: -16.381711959838867  \n"
     ]
    }
   ],
   "source": [
    "try: \n",
    "    env.close()\n",
    "except:\n",
    "    pass\n",
    "\n",
    "#env = gym.make(\"MountainCar-v0\")\n",
    "env = PatientMountainCar()\n",
    "agent = dql.agent(env  = env, training = False, render = False)\n",
    "\n",
    "# Implement the action model\n",
    "agent.action_dqn.dqn = action_model\n",
    "\n",
    "# Run\n",
    "agent.run(num_episode = 10, num_steps = 500)\n",
    "env.close()"
   ]
  },
  {
   "cell_type": "code",
   "execution_count": null,
   "metadata": {
    "collapsed": true
   },
   "outputs": [],
   "source": []
  }
 ],
 "metadata": {
  "anaconda-cloud": {},
  "kernelspec": {
   "display_name": "Python [conda env:Anaconda3]",
   "language": "python",
   "name": "conda-env-Anaconda3-py"
  },
  "language_info": {
   "codemirror_mode": {
    "name": "ipython",
    "version": 3
   },
   "file_extension": ".py",
   "mimetype": "text/x-python",
   "name": "python",
   "nbconvert_exporter": "python",
   "pygments_lexer": "ipython3",
   "version": "3.5.2"
  }
 },
 "nbformat": 4,
 "nbformat_minor": 1
}
