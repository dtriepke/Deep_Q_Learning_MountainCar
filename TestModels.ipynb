{
 "cells": [
  {
   "cell_type": "markdown",
   "metadata": {},
   "source": [
    "# Test Models\n",
    "\n",
    "This is for testing the saved model during the training session."
   ]
  },
  {
   "cell_type": "code",
   "execution_count": 2,
   "metadata": {
    "collapsed": false
   },
   "outputs": [
    {
     "name": "stderr",
     "output_type": "stream",
     "text": [
      "Using TensorFlow backend.\n"
     ]
    }
   ],
   "source": [
    "import deepQLearningSimple as dql\n",
    "import gym\n",
    "from keras.models import load_model \n",
    "from gym.envs.classic_control.mountain_car import MountainCarEnv\n",
    "from gym.wrappers.time_limit import TimeLimit\n",
    "\n",
    "import json"
   ]
  },
  {
   "cell_type": "markdown",
   "metadata": {},
   "source": [
    "# Test Model: Version Simple_V0\n",
    "***"
   ]
  },
  {
   "cell_type": "code",
   "execution_count": 4,
   "metadata": {
    "collapsed": false
   },
   "outputs": [
    {
     "name": "stdout",
     "output_type": "stream",
     "text": [
      "\u001b[33mWARN: gym.spaces.Box autodetected dtype as <class 'numpy.float32'>. Please provide explicit dtype.\u001b[0m\n",
      " Game :: 1 Wins :: 1 Steps :: 205 Reward -92.4731825290555 Mean Q Value :: -14.827834129333496 Max position 0.5294378085531888 \n",
      " Game :: 2 Wins :: 2 Steps :: 121 Reward -52.6700104363713 Mean Q Value :: -6.275969505310059 Max position 0.5379127100358578 \n",
      " Game :: 3 Wins :: 3 Steps :: 119 Reward -52.30306351546889 Mean Q Value :: -6.328579902648926 Max position 0.5013557299154922 \n",
      " Game :: 4 Wins :: 4 Steps :: 152 Reward -57.553739235229884 Mean Q Value :: -4.236596584320068 Max position 0.5348577983788596 \n",
      " Game :: 5 Wins :: 5 Steps :: 114 Reward -45.67759217563011 Mean Q Value :: -5.217054843902588 Max position 0.5348577983788596 \n"
     ]
    }
   ],
   "source": [
    "# Single Model Test\n",
    "episode = 370 # last successive model\n",
    "pathImp = \"data/model/version_simple_v1/\"\n",
    "action_model = load_model(pathImp + \"success_model_episode_%s.h5\" % episode)\n",
    "\n",
    "\n",
    "\n",
    "#env = gym.make(\"MountainCar-v0\")\n",
    "env = dql.patientMountainCar()\n",
    "agent = dql.agent(env  = env, training = False, render = True)\n",
    "\n",
    "# Implement the action model\n",
    "agent.action_dqn.dqn = action_model\n",
    "\n",
    "# Run\n",
    "agent.run(num_episode = 5, num_steps = 500)\n",
    "env.close()"
   ]
  },
  {
   "cell_type": "markdown",
   "metadata": {},
   "source": [
    "# Test Model: Version Simple_V1\n",
    "***"
   ]
  },
  {
   "cell_type": "code",
   "execution_count": 6,
   "metadata": {
    "collapsed": false
   },
   "outputs": [
    {
     "name": "stdout",
     "output_type": "stream",
     "text": [
      "\u001b[33mWARN: gym.spaces.Box autodetected dtype as <class 'numpy.float32'>. Please provide explicit dtype.\u001b[0m\n",
      " Game :: 1 Wins :: 1 Steps :: 114 Reward -46.33492337489265 Mean Q Value :: -8.441370010375977 Max position 0.5001752793754872 \n",
      " Game :: 2 Wins :: 2 Steps :: 115 Reward -45.788526254155805 Mean Q Value :: -10.041070938110352 Max position 0.5304629262072975 \n",
      " Game :: 3 Wins :: 3 Steps :: 112 Reward -46.184844196578396 Mean Q Value :: -9.998567581176758 Max position 0.5035186283537125 \n",
      " Game :: 4 Wins :: 4 Steps :: 95 Reward -21.151350368833118 Mean Q Value :: -7.110743999481201 Max position 0.5011526009353295 \n",
      " Game :: 5 Wins :: 5 Steps :: 94 Reward -22.34434486264992 Mean Q Value :: -7.184597015380859 Max position 0.5124670901682853 \n"
     ]
    }
   ],
   "source": [
    "# Single Model Test\n",
    "episode = 300 # last successive model\n",
    "pathImp = \"data/model/version_simple_v1/\"\n",
    "action_model = load_model(pathImp + \"success_model_episode_%s.h5\" % episode)\n",
    "\n",
    "pathImp = \"data/model/version_simple_v1/\"\n",
    "action_model = load_model(pathImp + \"end_of_run_model.h5\")\n",
    "\n",
    "\n",
    "#env = gym.make(\"MountainCar-v0\")\n",
    "env = dql.patientMountainCar()\n",
    "agent = dql.agent(env  = env, training = False, render = True)\n",
    "\n",
    "# Implement the action model\n",
    "agent.action_dqn.dqn = action_model\n",
    "\n",
    "# Run\n",
    "agent.run(num_episode = 5, num_steps = 500)\n",
    "env.close()"
   ]
  },
  {
   "cell_type": "code",
   "execution_count": null,
   "metadata": {
    "collapsed": true
   },
   "outputs": [],
   "source": []
  },
  {
   "cell_type": "code",
   "execution_count": null,
   "metadata": {
    "collapsed": true
   },
   "outputs": [],
   "source": []
  },
  {
   "cell_type": "code",
   "execution_count": null,
   "metadata": {
    "collapsed": true
   },
   "outputs": [],
   "source": []
  },
  {
   "cell_type": "code",
   "execution_count": null,
   "metadata": {
    "collapsed": true
   },
   "outputs": [],
   "source": []
  },
  {
   "cell_type": "code",
   "execution_count": null,
   "metadata": {
    "collapsed": true
   },
   "outputs": [],
   "source": []
  },
  {
   "cell_type": "code",
   "execution_count": null,
   "metadata": {
    "collapsed": true
   },
   "outputs": [],
   "source": []
  },
  {
   "cell_type": "code",
   "execution_count": null,
   "metadata": {
    "collapsed": true
   },
   "outputs": [],
   "source": []
  },
  {
   "cell_type": "code",
   "execution_count": null,
   "metadata": {
    "collapsed": true
   },
   "outputs": [],
   "source": []
  },
  {
   "cell_type": "code",
   "execution_count": null,
   "metadata": {
    "collapsed": true
   },
   "outputs": [],
   "source": []
  },
  {
   "cell_type": "code",
   "execution_count": null,
   "metadata": {
    "collapsed": true
   },
   "outputs": [],
   "source": []
  },
  {
   "cell_type": "code",
   "execution_count": null,
   "metadata": {
    "collapsed": true
   },
   "outputs": [],
   "source": []
  },
  {
   "cell_type": "code",
   "execution_count": null,
   "metadata": {
    "collapsed": true
   },
   "outputs": [],
   "source": []
  },
  {
   "cell_type": "code",
   "execution_count": null,
   "metadata": {
    "collapsed": true
   },
   "outputs": [],
   "source": []
  },
  {
   "cell_type": "code",
   "execution_count": null,
   "metadata": {
    "collapsed": true
   },
   "outputs": [],
   "source": []
  },
  {
   "cell_type": "raw",
   "metadata": {
    "collapsed": true
   },
   "source": [
    "# Test all success models\n",
    "import os\n",
    "from IPython.display import clear_output\n",
    "\n",
    "\n",
    "env = patientMountainCar()\n",
    "agent = dql.agent(env  = env, training = False, render = False)\n",
    "\n",
    "wins = {}\n",
    "wins[\"model\"] = []\n",
    "wins[\"test_wins\"] = []\n",
    "\n",
    "pathImp = \"./data/model/version_simple/\"\n",
    "files = [file for file in os.listdir(pathImp) if file.endswith(\".h5\") ]\n",
    "counter = 0\n",
    "\n",
    "for file in files:\n",
    "    \n",
    "    counter += 1\n",
    "    print(\"{}/{}\".format(counter, files.__len__()))\n",
    "\n",
    "    # Load the model\n",
    "    print(\"\\t... load model\")\n",
    "    action_model = load_model(pathImp + file)\n",
    "\n",
    "    # Implement action dqn in the game\n",
    "    print(\"\\t... update dqn\")\n",
    "    agent.action_dqn.dqn = action_model\n",
    "\n",
    "    # Reset manually writer history\n",
    "    print(\"\\t... reset history\")\n",
    "    agent.writer_history = dql.writer(\"version_simple_test\")\n",
    "\n",
    "    # Run test\n",
    "    print(\"run test:\")\n",
    "    agent.run(num_episode = 5, num_steps = 500)\n",
    "    env.close()\n",
    "\n",
    "    # Record performance\n",
    "    wins[\"model\"].append(file)\n",
    "    wins[\"test_wins\"].append(agent.writer_history.history[\"cum_win\"][4])\n",
    "    \n",
    "    clear_output(wait = True)\n",
    "\n",
    "# Store result\n",
    "path = \"data/model/version_simple/\"\n",
    "\n",
    "# convert into JSON\n",
    "y = json.dumps(wins)\n",
    "\n",
    "# write to local\n",
    "f = open(path + \"test_result.json\", \"w+\")\n",
    "f.write(y)\n",
    "f.close()"
   ]
  },
  {
   "cell_type": "markdown",
   "metadata": {},
   "source": [
    "## Import Backup"
   ]
  },
  {
   "cell_type": "raw",
   "metadata": {
    "collapsed": false
   },
   "source": [
    "path = \"data/model/version_simple/\"\n",
    "f = open(path + \"test_result.json\")\n",
    "wins = f.read()\n",
    "f.close()\n",
    "\n",
    "import seaborn as sns\n",
    "import matplotlib.pyplot as plt\n",
    "%matplotlib inline\n",
    "sns.set_style(\"darkgrid\")\n",
    "\n",
    "sns.countplot(wins[\"test_wins\"])\n",
    "plt.title(\"Number of Won Test Games\")\n",
    "plt.xlabel(\"Won games\")\n",
    "\n",
    "print(\"Test models :: %s\" % len(wins[\"test_wins\"]) )"
   ]
  },
  {
   "cell_type": "raw",
   "metadata": {
    "collapsed": false
   },
   "source": [
    "x = wins[\"test_wins\"]\n",
    "\n",
    "counter = 0\n",
    "n = len(x)\n",
    "for i in set(x):\n",
    "    count = len([win for win in x if win == i])\n",
    "    print(\"{} :: {} ({}%)\".format(i, count, round(count *100 / n, 2)) )"
   ]
  }
 ],
 "metadata": {
  "anaconda-cloud": {},
  "kernelspec": {
   "display_name": "Python [conda env:Anaconda3]",
   "language": "python",
   "name": "conda-env-Anaconda3-py"
  },
  "language_info": {
   "codemirror_mode": {
    "name": "ipython",
    "version": 3
   },
   "file_extension": ".py",
   "mimetype": "text/x-python",
   "name": "python",
   "nbconvert_exporter": "python",
   "pygments_lexer": "ipython3",
   "version": "3.5.2"
  }
 },
 "nbformat": 4,
 "nbformat_minor": 1
}
